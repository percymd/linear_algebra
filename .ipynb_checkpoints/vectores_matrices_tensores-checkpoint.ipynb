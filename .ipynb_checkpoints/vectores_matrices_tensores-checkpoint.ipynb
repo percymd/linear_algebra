{
 "cells": [
  {
   "cell_type": "code",
   "execution_count": 1,
   "id": "635ced5a",
   "metadata": {},
   "outputs": [],
   "source": [
    "import numpy as np"
   ]
  },
  {
   "cell_type": "code",
   "execution_count": 2,
   "id": "943a158c",
   "metadata": {},
   "outputs": [],
   "source": [
    "escalar = 5.679\n",
    "vector = np.array([1,2,3])\n",
    "matriz = np.array([[1,2],[3,4]])\n",
    "tensor = np.array([\n",
    "    [[1,2,3],[4,5,6],[7,8,9]],\n",
    "    [[11,12,13],[14,15,16],[17,18,19]],\n",
    "    [[21,22,23],[24,25,26],[27,28,29]]\n",
    "])"
   ]
  },
  {
   "cell_type": "code",
   "execution_count": 3,
   "id": "50b93066",
   "metadata": {},
   "outputs": [
    {
     "name": "stdout",
     "output_type": "stream",
     "text": [
      "5.679\n"
     ]
    }
   ],
   "source": [
    "print(escalar)"
   ]
  },
  {
   "cell_type": "code",
   "execution_count": 4,
   "id": "91ae8e87",
   "metadata": {},
   "outputs": [],
   "source": [
    "# escalar.shape\n",
    "# no tiene dimensión"
   ]
  },
  {
   "cell_type": "code",
   "execution_count": 5,
   "id": "cd2f5e0f",
   "metadata": {
    "scrolled": true
   },
   "outputs": [
    {
     "name": "stdout",
     "output_type": "stream",
     "text": [
      "[1 2 3]\n"
     ]
    },
    {
     "data": {
      "text/plain": [
       "(3,)"
      ]
     },
     "execution_count": 5,
     "metadata": {},
     "output_type": "execute_result"
    }
   ],
   "source": [
    "print(vector)\n",
    "vector.shape"
   ]
  },
  {
   "cell_type": "code",
   "execution_count": 6,
   "id": "859a453a",
   "metadata": {},
   "outputs": [
    {
     "data": {
      "text/plain": [
       "3"
      ]
     },
     "execution_count": 6,
     "metadata": {},
     "output_type": "execute_result"
    }
   ],
   "source": [
    "len(vector)"
   ]
  },
  {
   "cell_type": "code",
   "execution_count": 7,
   "id": "2e6df306",
   "metadata": {},
   "outputs": [
    {
     "name": "stdout",
     "output_type": "stream",
     "text": [
      "[[1 2]\n",
      " [3 4]]\n"
     ]
    },
    {
     "data": {
      "text/plain": [
       "(2, 2)"
      ]
     },
     "execution_count": 7,
     "metadata": {},
     "output_type": "execute_result"
    }
   ],
   "source": [
    "print(matriz)\n",
    "matriz.shape"
   ]
  },
  {
   "cell_type": "code",
   "execution_count": 8,
   "id": "d038e7cc",
   "metadata": {},
   "outputs": [
    {
     "data": {
      "text/plain": [
       "2"
      ]
     },
     "execution_count": 8,
     "metadata": {},
     "output_type": "execute_result"
    }
   ],
   "source": [
    "len(matriz)\n",
    "#Nos devuelve la cantidad de objetos en la primera columna"
   ]
  },
  {
   "cell_type": "code",
   "execution_count": 9,
   "id": "724876d0",
   "metadata": {},
   "outputs": [
    {
     "name": "stdout",
     "output_type": "stream",
     "text": [
      "4\n"
     ]
    }
   ],
   "source": [
    "print(matriz.size)\n",
    "#Nos devuelve la multimlicacion de dimensiones"
   ]
  },
  {
   "cell_type": "code",
   "execution_count": 10,
   "id": "babbb519",
   "metadata": {},
   "outputs": [
    {
     "name": "stdout",
     "output_type": "stream",
     "text": [
      "(3, 3, 3)\n"
     ]
    }
   ],
   "source": [
    "print(tensor.shape)"
   ]
  },
  {
   "cell_type": "code",
   "execution_count": 11,
   "id": "d1af2345",
   "metadata": {},
   "outputs": [
    {
     "name": "stdout",
     "output_type": "stream",
     "text": [
      "27\n"
     ]
    }
   ],
   "source": [
    "print(tensor.size)"
   ]
  },
  {
   "cell_type": "markdown",
   "id": "7dd1a43a",
   "metadata": {},
   "source": [
    "# Transposicion y Suma - matrices escalares"
   ]
  },
  {
   "cell_type": "code",
   "execution_count": 12,
   "id": "1ab82428",
   "metadata": {},
   "outputs": [],
   "source": [
    "escalar = 5.679\n",
    "vector = np.array([3,4,5,6])\n",
    "matriz = np.array([[1,2],[3,4],[5,6]])\n",
    "tensor = np.array([\n",
    "    [[1,2,3,30],[4,5,6,31],[7,8,9,32]],\n",
    "    [[11,12,13,33],[14,15,16,34],[17,18,19,35]],\n",
    "    [[21,22,23,36],[24,25,26,37],[27,28,29,38]]\n",
    "])"
   ]
  },
  {
   "cell_type": "code",
   "execution_count": 13,
   "id": "30c8b67b",
   "metadata": {},
   "outputs": [],
   "source": [
    "#escalar_t = escalar.T\n",
    "#No tiene transpuesta al no tener dimensiones"
   ]
  },
  {
   "cell_type": "code",
   "execution_count": 14,
   "id": "00f55141",
   "metadata": {},
   "outputs": [
    {
     "name": "stdout",
     "output_type": "stream",
     "text": [
      "[3 4 5 6]\n"
     ]
    }
   ],
   "source": [
    "vector_t = vector.T\n",
    "print(vector_t)"
   ]
  },
  {
   "cell_type": "code",
   "execution_count": 15,
   "id": "1fa59ab0",
   "metadata": {},
   "outputs": [
    {
     "name": "stdout",
     "output_type": "stream",
     "text": [
      "[[1 3 5]\n",
      " [2 4 6]]\n"
     ]
    }
   ],
   "source": [
    "matriz_t = matriz.T\n",
    "print(matriz_t)"
   ]
  },
  {
   "cell_type": "code",
   "execution_count": 16,
   "id": "9fd65870",
   "metadata": {},
   "outputs": [
    {
     "name": "stdout",
     "output_type": "stream",
     "text": [
      "(3, 2)\n"
     ]
    }
   ],
   "source": [
    "print(matriz.shape)"
   ]
  },
  {
   "cell_type": "code",
   "execution_count": 17,
   "id": "1ec6b792",
   "metadata": {},
   "outputs": [
    {
     "name": "stdout",
     "output_type": "stream",
     "text": [
      "(2, 3)\n"
     ]
    }
   ],
   "source": [
    "print(matriz_t.shape)"
   ]
  },
  {
   "cell_type": "code",
   "execution_count": 18,
   "id": "fe0bb583",
   "metadata": {},
   "outputs": [
    {
     "name": "stdout",
     "output_type": "stream",
     "text": [
      "[[[ 1 11 21]\n",
      "  [ 4 14 24]\n",
      "  [ 7 17 27]]\n",
      "\n",
      " [[ 2 12 22]\n",
      "  [ 5 15 25]\n",
      "  [ 8 18 28]]\n",
      "\n",
      " [[ 3 13 23]\n",
      "  [ 6 16 26]\n",
      "  [ 9 19 29]]\n",
      "\n",
      " [[30 33 36]\n",
      "  [31 34 37]\n",
      "  [32 35 38]]]\n"
     ]
    }
   ],
   "source": [
    "tensor_t =tensor.T\n",
    "print(tensor_t)"
   ]
  },
  {
   "cell_type": "code",
   "execution_count": 19,
   "id": "08af1147",
   "metadata": {},
   "outputs": [
    {
     "name": "stdout",
     "output_type": "stream",
     "text": [
      "[[[ 1  2  3 30]\n",
      "  [ 4  5  6 31]\n",
      "  [ 7  8  9 32]]\n",
      "\n",
      " [[11 12 13 33]\n",
      "  [14 15 16 34]\n",
      "  [17 18 19 35]]\n",
      "\n",
      " [[21 22 23 36]\n",
      "  [24 25 26 37]\n",
      "  [27 28 29 38]]]\n"
     ]
    }
   ],
   "source": [
    "print(tensor)"
   ]
  },
  {
   "cell_type": "code",
   "execution_count": 20,
   "id": "9c29e706",
   "metadata": {},
   "outputs": [
    {
     "name": "stdout",
     "output_type": "stream",
     "text": [
      "[[1 2]\n",
      " [3 4]\n",
      " [5 6]]\n"
     ]
    }
   ],
   "source": [
    "matriz_t_t = matriz_t.T\n",
    "print(matriz_t_t)"
   ]
  },
  {
   "cell_type": "code",
   "execution_count": 21,
   "id": "9bc41334",
   "metadata": {},
   "outputs": [
    {
     "name": "stdout",
     "output_type": "stream",
     "text": [
      "A =  [[1 2]\n",
      " [3 4]\n",
      " [5 6]]\n",
      "\n",
      "B =  [[6 5]\n",
      " [4 3]\n",
      " [2 1]]\n",
      "\n",
      "c =  [[7 7]\n",
      " [7 7]\n",
      " [7 7]]\n"
     ]
    }
   ],
   "source": [
    "A = np.array([[1,2],[3,4],[5,6]])\n",
    "B = np.array([[6,5],[4,3],[2,1]])\n",
    "C = A+B\n",
    "\n",
    "print('A = ',A)\n",
    "print(\"\")\n",
    "print('B = ',B)\n",
    "print(\"\")\n",
    "print('c = ',C)"
   ]
  },
  {
   "cell_type": "code",
   "execution_count": 22,
   "id": "143facd6",
   "metadata": {},
   "outputs": [
    {
     "name": "stdout",
     "output_type": "stream",
     "text": [
      "[[ 6.679  7.679]\n",
      " [ 8.679  9.679]\n",
      " [10.679 11.679]]\n"
     ]
    }
   ],
   "source": [
    "D = matriz + escalar\n",
    "print(D)"
   ]
  },
  {
   "cell_type": "markdown",
   "id": "79209f24",
   "metadata": {},
   "source": [
    "## Suma de Matrices y Vectores (broadcasting)"
   ]
  },
  {
   "cell_type": "code",
   "execution_count": 23,
   "id": "8259f6cc",
   "metadata": {},
   "outputs": [],
   "source": [
    "escalar = 5.679\n",
    "vector = np.array([3,4,5])\n",
    "matriz = np.array([[1,2],[3,4],[5,6]])"
   ]
  },
  {
   "cell_type": "code",
   "execution_count": 24,
   "id": "ffd8a572",
   "metadata": {},
   "outputs": [],
   "source": [
    "#A = vector + matriz\n",
    "#Bota error por no tener la misma dimension"
   ]
  },
  {
   "cell_type": "code",
   "execution_count": 25,
   "id": "70e37711",
   "metadata": {},
   "outputs": [
    {
     "name": "stdout",
     "output_type": "stream",
     "text": [
      "[[ 4  7 10]\n",
      " [ 5  8 11]]\n"
     ]
    }
   ],
   "source": [
    "A = matriz.T + vector\n",
    "print(A)\n",
    "#Broadcasting: Extender la dimension de menor tamaño hasta completar o igualar la de mayor tamaño"
   ]
  },
  {
   "cell_type": "code",
   "execution_count": 26,
   "id": "4697a502",
   "metadata": {},
   "outputs": [
    {
     "name": "stdout",
     "output_type": "stream",
     "text": [
      "[[43 44]\n",
      " [45 46]\n",
      " [47 48]]\n"
     ]
    }
   ],
   "source": [
    "C = matriz + 42\n",
    "print(C)"
   ]
  },
  {
   "cell_type": "code",
   "execution_count": 27,
   "id": "f930b44d",
   "metadata": {},
   "outputs": [
    {
     "name": "stdout",
     "output_type": "stream",
     "text": [
      "[[43 44]\n",
      " [45 46]\n",
      " [47 48]]\n"
     ]
    }
   ],
   "source": [
    "D = matriz + np.array([[42],[42],[42]])\n",
    "print(D)"
   ]
  },
  {
   "cell_type": "markdown",
   "id": "e962617d",
   "metadata": {},
   "source": [
    "# Producto entre una matriz y un vector"
   ]
  },
  {
   "cell_type": "code",
   "execution_count": 28,
   "id": "5e8a6fd8",
   "metadata": {},
   "outputs": [],
   "source": [
    "escalar = 5.769\n",
    "vector = np.array([2,3])\n",
    "matriz = np.array([[1,2],[3,4],[5,6]])"
   ]
  },
  {
   "cell_type": "code",
   "execution_count": 29,
   "id": "adef969c",
   "metadata": {},
   "outputs": [
    {
     "name": "stdout",
     "output_type": "stream",
     "text": [
      "[[ 2  6]\n",
      " [ 6 12]\n",
      " [10 18]]\n"
     ]
    }
   ],
   "source": [
    "#Broadcasting\n",
    "A = matriz * vector\n",
    "print(A)"
   ]
  },
  {
   "cell_type": "code",
   "execution_count": 30,
   "id": "3a7f4aa6",
   "metadata": {},
   "outputs": [
    {
     "name": "stdout",
     "output_type": "stream",
     "text": [
      "[ 8 18 28]\n"
     ]
    }
   ],
   "source": [
    "#Producto interno: regresa un escalar\n",
    "B = matriz.dot(vector)\n",
    "print(B)"
   ]
  },
  {
   "cell_type": "code",
   "execution_count": 31,
   "id": "6360f36a",
   "metadata": {},
   "outputs": [
    {
     "name": "stdout",
     "output_type": "stream",
     "text": [
      "[ 8 18 28]\n"
     ]
    }
   ],
   "source": [
    "C = np.dot(matriz, vector)\n",
    "print(C)"
   ]
  },
  {
   "cell_type": "markdown",
   "id": "d96b94ae",
   "metadata": {},
   "source": [
    "## Producto interno entre 2 matrices"
   ]
  },
  {
   "cell_type": "code",
   "execution_count": 32,
   "id": "c66a61b8",
   "metadata": {},
   "outputs": [],
   "source": [
    "A = np.array([[1,2,3], [4,5,6],[7,8,9],[10,11,12]])\n",
    "B = np.array([[2,3],[5,7],[11,13]])"
   ]
  },
  {
   "cell_type": "code",
   "execution_count": 33,
   "id": "5aa4cfac",
   "metadata": {},
   "outputs": [
    {
     "name": "stdout",
     "output_type": "stream",
     "text": [
      "(4, 3)\n"
     ]
    }
   ],
   "source": [
    "print(A.shape)"
   ]
  },
  {
   "cell_type": "code",
   "execution_count": 34,
   "id": "bc771ff9",
   "metadata": {},
   "outputs": [
    {
     "name": "stdout",
     "output_type": "stream",
     "text": [
      "(3, 2)\n"
     ]
    }
   ],
   "source": [
    "print(B.shape)"
   ]
  },
  {
   "cell_type": "code",
   "execution_count": 35,
   "id": "c3fc1be2",
   "metadata": {},
   "outputs": [
    {
     "name": "stdout",
     "output_type": "stream",
     "text": [
      "[[ 45  56]\n",
      " [ 99 125]\n",
      " [153 194]\n",
      " [207 263]]\n"
     ]
    }
   ],
   "source": [
    "C = A.dot(B)\n",
    "print(C)"
   ]
  },
  {
   "cell_type": "code",
   "execution_count": 36,
   "id": "47680926",
   "metadata": {},
   "outputs": [],
   "source": [
    "#D = B.dot(A)\n",
    "#Bota error porque la dimesion de la fila B no es igual a la dimension de la columna de A"
   ]
  },
  {
   "cell_type": "markdown",
   "id": "09be123e",
   "metadata": {},
   "source": [
    "## Propiedad del producto interno - Asociativa - Dist - Conmutativa"
   ]
  },
  {
   "cell_type": "code",
   "execution_count": 37,
   "id": "46d24915",
   "metadata": {},
   "outputs": [],
   "source": [
    "A = np.array([[2,3],[5,7],[11,13]])\n",
    "B = np.array([[1,3],[2,1]])\n",
    "C = np.array([[3,1],[4,2]])"
   ]
  },
  {
   "cell_type": "code",
   "execution_count": 39,
   "id": "e6378b02",
   "metadata": {},
   "outputs": [
    {
     "name": "stdout",
     "output_type": "stream",
     "text": [
      "[[ 60  26]\n",
      " [145  63]\n",
      " [295 129]]\n"
     ]
    }
   ],
   "source": [
    "# Asociativa\n",
    "ABC = A.dot(B.dot(C))\n",
    "print(ABC)"
   ]
  },
  {
   "cell_type": "code",
   "execution_count": 40,
   "id": "ddcb211f",
   "metadata": {},
   "outputs": [
    {
     "name": "stdout",
     "output_type": "stream",
     "text": [
      "[[ 60  26]\n",
      " [145  63]\n",
      " [295 129]]\n"
     ]
    }
   ],
   "source": [
    "AB_C = A.dot(B).dot(C)\n",
    "print(AB_C)"
   ]
  },
  {
   "cell_type": "code",
   "execution_count": 41,
   "id": "851901ab",
   "metadata": {},
   "outputs": [
    {
     "name": "stdout",
     "output_type": "stream",
     "text": [
      "[[ 26  17]\n",
      " [ 62  41]\n",
      " [122  83]]\n",
      "\n",
      "[[ 26  17]\n",
      " [ 62  41]\n",
      " [122  83]]\n"
     ]
    }
   ],
   "source": [
    "# Distributiva\n",
    "D = A.dot(B+C)\n",
    "E = (A.dot(B))+ (A.dot(C))\n",
    "print(D)\n",
    "print(\"\")\n",
    "print(E)"
   ]
  },
  {
   "cell_type": "code",
   "execution_count": 42,
   "id": "c263a330",
   "metadata": {},
   "outputs": [
    {
     "name": "stdout",
     "output_type": "stream",
     "text": [
      "[[ True  True]\n",
      " [ True  True]\n",
      " [ True  True]]\n"
     ]
    }
   ],
   "source": [
    "print(D==E)"
   ]
  },
  {
   "cell_type": "code",
   "execution_count": 43,
   "id": "83ffe084",
   "metadata": {},
   "outputs": [
    {
     "name": "stdout",
     "output_type": "stream",
     "text": [
      "[[False False]\n",
      " [False False]]\n"
     ]
    }
   ],
   "source": [
    "# Conmutativa\n",
    "F = B.dot(C)\n",
    "G = C.dot(B)\n",
    "print(F==G)"
   ]
  },
  {
   "cell_type": "code",
   "execution_count": 44,
   "id": "d0a19e92",
   "metadata": {},
   "outputs": [
    {
     "name": "stdout",
     "output_type": "stream",
     "text": [
      "[[15  7]\n",
      " [10  4]]\n",
      "\n",
      "[[ 5 10]\n",
      " [ 8 14]]\n"
     ]
    }
   ],
   "source": [
    "print(F)\n",
    "print(\"\")\n",
    "print(G)"
   ]
  },
  {
   "cell_type": "code",
   "execution_count": 46,
   "id": "0ca1bc95",
   "metadata": {},
   "outputs": [
    {
     "name": "stdout",
     "output_type": "stream",
     "text": [
      "[[41]]\n",
      "\n",
      "[[41]]\n"
     ]
    }
   ],
   "source": [
    "#Producto interno de vectores\n",
    "v1 = np.array([[2],[7]])\n",
    "v2 = np.array([[3],[5]])\n",
    "\n",
    "v1_tv2 = v1.T.dot(v2)\n",
    "v2_tv1 = v2.T.dot(v1)\n",
    "\n",
    "print(v1_tv2)\n",
    "print(\"\")\n",
    "print(v2_tv1)"
   ]
  },
  {
   "cell_type": "markdown",
   "id": "804902bf",
   "metadata": {},
   "source": [
    "# Transposición de un producto de matrices"
   ]
  },
  {
   "cell_type": "code",
   "execution_count": 47,
   "id": "42ec2939",
   "metadata": {},
   "outputs": [
    {
     "name": "stdout",
     "output_type": "stream",
     "text": [
      "[[ 2  3]\n",
      " [ 5  7]\n",
      " [11 13]]\n",
      "\n",
      "[[1 3]\n",
      " [2 1]]\n"
     ]
    }
   ],
   "source": [
    "A = np.array([[2,3],[5,7],[11,13]])\n",
    "B = np.array([[1,3],[2,1]])\n",
    "\n",
    "print(A)\n",
    "print(\"\")\n",
    "print(B)"
   ]
  },
  {
   "cell_type": "code",
   "execution_count": 50,
   "id": "ef2d5166",
   "metadata": {},
   "outputs": [
    {
     "name": "stdout",
     "output_type": "stream",
     "text": [
      "[[ True  True  True]\n",
      " [ True  True  True]]\n"
     ]
    }
   ],
   "source": [
    "AB_t = A.dot(B).T\n",
    "B_tA_t = B.T.dot(A.T)\n",
    "\n",
    "print(AB_t == B_tA_t)"
   ]
  },
  {
   "cell_type": "code",
   "execution_count": null,
   "id": "e7deb74f",
   "metadata": {},
   "outputs": [],
   "source": []
  }
 ],
 "metadata": {
  "kernelspec": {
   "display_name": "Python 3",
   "language": "python",
   "name": "python3"
  },
  "language_info": {
   "codemirror_mode": {
    "name": "ipython",
    "version": 3
   },
   "file_extension": ".py",
   "mimetype": "text/x-python",
   "name": "python",
   "nbconvert_exporter": "python",
   "pygments_lexer": "ipython3",
   "version": "3.8.6rc1"
  }
 },
 "nbformat": 4,
 "nbformat_minor": 5
}
