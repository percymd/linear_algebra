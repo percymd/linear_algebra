{
 "cells": [
  {
   "cell_type": "markdown",
   "id": "c4c9caf3",
   "metadata": {},
   "source": [
    "# Norma"
   ]
  },
  {
   "cell_type": "markdown",
   "id": "1dd50f1c",
   "metadata": {},
   "source": [
    "## Desigualdad triangular"
   ]
  },
  {
   "cell_type": "code",
   "execution_count": 1,
   "id": "68f088f1",
   "metadata": {},
   "outputs": [],
   "source": [
    "%matplotlib inline\n",
    "\n",
    "import numpy as np\n",
    "import matplotlib.pyplot as plt\n",
    "import seaborn as sns"
   ]
  },
  {
   "cell_type": "code",
   "execution_count": 4,
   "id": "a7980e67",
   "metadata": {},
   "outputs": [],
   "source": [
    "v1 = np.array([2,7])\n",
    "v2 = np.array([3,5])"
   ]
  },
  {
   "cell_type": "code",
   "execution_count": 5,
   "id": "cd3d0ccc",
   "metadata": {},
   "outputs": [
    {
     "name": "stdout",
     "output_type": "stream",
     "text": [
      "[ 5 12]\n"
     ]
    }
   ],
   "source": [
    "v1v2 = v1 + v2\n",
    "print(v1v2)"
   ]
  },
  {
   "cell_type": "code",
   "execution_count": 6,
   "id": "4f05f498",
   "metadata": {},
   "outputs": [
    {
     "data": {
      "text/plain": [
       "13.0"
      ]
     },
     "execution_count": 6,
     "metadata": {},
     "output_type": "execute_result"
    }
   ],
   "source": [
    "np.linalg.norm(v1v2)"
   ]
  },
  {
   "cell_type": "code",
   "execution_count": 9,
   "id": "5b4fff8d",
   "metadata": {},
   "outputs": [
    {
     "name": "stdout",
     "output_type": "stream",
     "text": [
      "True\n"
     ]
    }
   ],
   "source": [
    "# norma(v1v2) <= norma(v1) + norma(v2)\n",
    "\n",
    "norma_v1 = np.linalg.norm(v1)\n",
    "norma_v2 = np.linalg.norm(v2)\n",
    "norma_v1v2 = np.linalg.norm(v1v2)\n",
    "\n",
    "print(norma_v1v2 <= (norma_v1 + norma_v2))"
   ]
  },
  {
   "cell_type": "code",
   "execution_count": 10,
   "id": "5c0962b3",
   "metadata": {},
   "outputs": [
    {
     "name": "stdout",
     "output_type": "stream",
     "text": [
      "13.11106178412582\n"
     ]
    }
   ],
   "source": [
    "print(norma_v1 + norma_v2)"
   ]
  },
  {
   "cell_type": "code",
   "execution_count": 12,
   "id": "1707d114",
   "metadata": {},
   "outputs": [],
   "source": [
    "v1 = np.array([0,0,2,7])\n",
    "v2 = np.array([0,0,3,5])\n",
    "\n",
    "v1_aux = np.array([v1[2], v1[3],v2[2],v2[3]])\n",
    "v1v2 = np.array([0,0,5,12])"
   ]
  },
  {
   "cell_type": "code",
   "execution_count": 13,
   "id": "35f00635",
   "metadata": {},
   "outputs": [
    {
     "data": {
      "text/plain": [
       "(0.5, 15.0)"
      ]
     },
     "execution_count": 13,
     "metadata": {},
     "output_type": "execute_result"
    },
    {
     "data": {
      "image/png": "[encoded data removed]",
      "text/plain": [
       "<Figure size 432x288 with 1 Axes>"
      ]
     },
     "metadata": {
      "needs_background": "light"
     },
     "output_type": "display_data"
    }
   ],
   "source": [
    "plt.quiver([v1[0], v1_aux[0], v1v2[0]],\n",
    "           [v1[1], v1_aux[1], v1v2[1]],\n",
    "           [v1[2], v1_aux[2], v1v2[2]],\n",
    "           [v1[3], v1_aux[3], v1v2[3]],\n",
    "           angles = 'xy', scale_units = 'xy', scale = 1,\n",
    "           color = sns.color_palette()       \n",
    "          )\n",
    "\n",
    "plt.xlim(-0.5, 6)\n",
    "plt.ylim(0.5, 15)"
   ]
  },
  {
   "cell_type": "markdown",
   "id": "aeaeb783",
   "metadata": {},
   "source": [
    "## Tipos de normas"
   ]
  },
  {
   "cell_type": "code",
   "execution_count": 14,
   "id": "eecc54ef",
   "metadata": {},
   "outputs": [],
   "source": [
    "import numpy as np"
   ]
  },
  {
   "cell_type": "markdown",
   "id": "6397daca",
   "metadata": {},
   "source": [
    "L0: devuelve la cantidad de elementos diferentes de 0 del vector"
   ]
  },
  {
   "cell_type": "code",
   "execution_count": 16,
   "id": "85dab1c1",
   "metadata": {},
   "outputs": [
    {
     "name": "stdout",
     "output_type": "stream",
     "text": [
      "4.0\n"
     ]
    }
   ],
   "source": [
    "vector = np.array([1,2,0,5,6,0])\n",
    "\n",
    "print(np.linalg.norm(vector, ord=0))"
   ]
  },
  {
   "cell_type": "markdown",
   "id": "aa1c7ca7",
   "metadata": {},
   "source": [
    "L1: devuelve la suma de los valores absolutos de los elementos del vector"
   ]
  },
  {
   "cell_type": "code",
   "execution_count": 18,
   "id": "2e0bcddc",
   "metadata": {},
   "outputs": [
    {
     "name": "stdout",
     "output_type": "stream",
     "text": [
      "5.0\n"
     ]
    }
   ],
   "source": [
    "vector = np.array([1,-1,1,-1,1])\n",
    "\n",
    "print(np.linalg.norm(vector, ord=1))"
   ]
  },
  {
   "cell_type": "markdown",
   "id": "64ee89a2",
   "metadata": {},
   "source": [
    "L2: La magnitud del vector desde su origen (Distancia euclideana)"
   ]
  },
  {
   "cell_type": "code",
   "execution_count": 20,
   "id": "08d8b770",
   "metadata": {},
   "outputs": [
    {
     "name": "stdout",
     "output_type": "stream",
     "text": [
      "1.4142135623730951\n",
      "1.4142135623730951\n"
     ]
    }
   ],
   "source": [
    "#La funcion norm por defecto nos devuelve la norma L2\n",
    "vector = np.array([1,1])\n",
    "print(np.linalg.norm(vector))\n",
    "print(np.linalg.norm(vector, ord=2))"
   ]
  },
  {
   "cell_type": "markdown",
   "id": "3052a191",
   "metadata": {},
   "source": [
    "L2^2: Usando el producto interno. Presenta ventajas computacionales"
   ]
  },
  {
   "cell_type": "code",
   "execution_count": 24,
   "id": "929bffa1",
   "metadata": {},
   "outputs": [
    {
     "name": "stdout",
     "output_type": "stream",
     "text": [
      "[1 2 3 4 5 6]\n"
     ]
    }
   ],
   "source": [
    "vector = np.array([1,2,3,4,5,6])\n",
    "print(vector)"
   ]
  },
  {
   "cell_type": "code",
   "execution_count": 25,
   "id": "a8c85b9d",
   "metadata": {},
   "outputs": [
    {
     "name": "stdout",
     "output_type": "stream",
     "text": [
      "91.0\n"
     ]
    }
   ],
   "source": [
    "print(np.linalg.norm(vector, ord=2)**2)"
   ]
  },
  {
   "cell_type": "code",
   "execution_count": 26,
   "id": "8eba05e9",
   "metadata": {},
   "outputs": [
    {
     "name": "stdout",
     "output_type": "stream",
     "text": [
      "91\n"
     ]
    }
   ],
   "source": [
    "print(vector.T.dot(vector))"
   ]
  },
  {
   "cell_type": "markdown",
   "id": "9045efe2",
   "metadata": {},
   "source": [
    "L infinito: devuelve el valor absoluto más grande del vector"
   ]
  },
  {
   "cell_type": "code",
   "execution_count": 27,
   "id": "739c760a",
   "metadata": {},
   "outputs": [
    {
     "name": "stdout",
     "output_type": "stream",
     "text": [
      "100.0\n"
     ]
    }
   ],
   "source": [
    "vector = np.array([1,2,3,-100])\n",
    "print(np.linalg.norm(vector, ord=np.inf))"
   ]
  },
  {
   "cell_type": "markdown",
   "id": "bea1ec0e",
   "metadata": {},
   "source": [
    "## Producto interno expresado con normas"
   ]
  },
  {
   "cell_type": "code",
   "execution_count": 28,
   "id": "a01d95b2",
   "metadata": {},
   "outputs": [],
   "source": [
    "%matplotlib inline\n",
    "\n",
    "import numpy as np\n",
    "import matplotlib.pyplot as plt\n",
    "import seaborn as sns"
   ]
  },
  {
   "cell_type": "code",
   "execution_count": 29,
   "id": "75fa81a4",
   "metadata": {},
   "outputs": [],
   "source": [
    "v1 = np.array([0,0,0,3])\n",
    "v2 = np.array([0,0,3,3])"
   ]
  },
  {
   "cell_type": "code",
   "execution_count": 30,
   "id": "53f1efe3",
   "metadata": {},
   "outputs": [
    {
     "data": {
      "image/png": "[encoded data removed]",
      "text/plain": [
       "<Figure size 432x288 with 1 Axes>"
      ]
     },
     "metadata": {
      "needs_background": "light"
     },
     "output_type": "display_data"
    }
   ],
   "source": [
    "plt.xlim(-2, 6)\n",
    "plt.ylim(-2, 6)\n",
    "\n",
    "plt.quiver([v1[0],v2[0]],\n",
    "           [v1[1],v2[1]],\n",
    "           [v1[2],v2[2]],\n",
    "           [v1[3],v2[3]],\n",
    "           angles = 'xy', scale_units = 'xy', scale = 1,\n",
    "           color = sns.color_palette() \n",
    "          )\n",
    "\n",
    "plt.show()"
   ]
  },
  {
   "cell_type": "code",
   "execution_count": null,
   "id": "411a26a0",
   "metadata": {},
   "outputs": [],
   "source": []
  },
  {
   "cell_type": "code",
   "execution_count": null,
   "id": "7b955efc",
   "metadata": {},
   "outputs": [],
   "source": []
  }
 ],
 "metadata": {
  "kernelspec": {
   "display_name": "Python 3",
   "language": "python",
   "name": "python3"
  },
  "language_info": {
   "codemirror_mode": {
    "name": "ipython",
    "version": 3
   },
   "file_extension": ".py",
   "mimetype": "text/x-python",
   "name": "python",
   "nbconvert_exporter": "python",
   "pygments_lexer": "ipython3",
   "version": "3.8.6rc1"
  }
 },
 "nbformat": 4,
 "nbformat_minor": 5
}
